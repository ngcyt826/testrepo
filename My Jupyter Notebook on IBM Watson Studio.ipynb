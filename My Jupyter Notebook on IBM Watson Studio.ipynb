{
 "cells": [
  {
   "cell_type": "markdown",
   "id": "a383cd2d-5cb1-4f7b-92f9-352edbba1efa",
   "metadata": {},
   "source": [
    "# My Jupyter Notebook on IBM Watson Studio"
   ]
  },
  {
   "cell_type": "markdown",
   "id": "767a133d-cdf4-4615-af79-6216871a635e",
   "metadata": {},
   "source": [
    "**Timothy NG**   \n",
    "Current Position Bank Analyst"
   ]
  },
  {
   "cell_type": "markdown",
   "id": "c46075ed-5def-44d8-9287-accb4b09f7ed",
   "metadata": {},
   "source": [
    "*I am interested in data science because it is highly relevant in the banking industry I'm working in.  I would love to study data science to enrich my career knowledge and perhaps explore more career opportunities in banking that are related to data*"
   ]
  },
  {
   "cell_type": "markdown",
   "id": "b816ff8f-2b63-44fe-af9b-0ffc69d14c39",
   "metadata": {},
   "source": [
    "### The following code simply helps calculate the square number of the number inputted"
   ]
  },
  {
   "cell_type": "code",
   "execution_count": 3,
   "id": "624d358f-9627-437f-ba0f-3b2bccd256e7",
   "metadata": {},
   "outputs": [
    {
     "data": {
      "text/plain": [
       "True"
      ]
     },
     "execution_count": 3,
     "metadata": {},
     "output_type": "execute_result"
    }
   ],
   "source": [
    "def square(n) : \n",
    "    return  n*n \n",
    "\n",
    "square (100) == 100*100"
   ]
  },
  {
   "cell_type": "markdown",
   "id": "3d5cfa29-ebcf-4ee2-b258-33a22c6f541e",
   "metadata": {},
   "source": [
    "1. Numbered List\n",
    "2. ~Strike through~\n",
    "3. <a href=\"https://google.com\">Hyperlink to Google</a> \n",
    "---\n"
   ]
  }
 ],
 "metadata": {
  "kernelspec": {
   "display_name": "Python",
   "language": "python",
   "name": "conda-env-python-py"
  },
  "language_info": {
   "codemirror_mode": {
    "name": "ipython",
    "version": 3
   },
   "file_extension": ".py",
   "mimetype": "text/x-python",
   "name": "python",
   "nbconvert_exporter": "python",
   "pygments_lexer": "ipython3",
   "version": "3.7.12"
  }
 },
 "nbformat": 4,
 "nbformat_minor": 5
}
